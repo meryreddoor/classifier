{
 "cells": [
  {
   "cell_type": "markdown",
   "metadata": {},
   "source": [
    "# Classifier Project"
   ]
  },
  {
   "cell_type": "markdown",
   "metadata": {},
   "source": [
    "# Intro\n",
    "\n",
    "Columnas relevantes:\n",
    "\n",
    "- F1: intercolumnar distance\n",
    "- F2: upper margin\n",
    "- F3: lower margin\n",
    "- F4: exploitation\n",
    "- F5: row number\n",
    "- F6: modular ratio\n",
    "- F7: interlinear spacing\n",
    "- F8: weight\n",
    "- F9: peak number\n",
    "- F10: modular ratio/ interlinear spacing\n",
    "\n",
    "Author: Marcus, Philippus, Ovionicus, Blanquius, Clarius, Paithonius, Ubuntius, FerrumEffractarius"
   ]
  },
  {
   "cell_type": "markdown",
   "metadata": {},
   "source": [
    "# Import corresponding libraries"
   ]
  },
  {
   "cell_type": "code",
   "execution_count": 1,
   "metadata": {},
   "outputs": [],
   "source": [
    "%matplotlib inline\n",
    "import pandas as pd\n",
    "import numpy as np\n",
    "import matplotlib.pyplot as plt\n",
    "import seaborn as sns\n",
    "from sklearn.model_selection import train_test_split\n",
    "from sklearn.ensemble import RandomForestClassifier\n",
    "from sklearn.calibration import CalibratedClassifierCV\n",
    "from sklearn.svm import SVC\n",
    "from sklearn.svm import LinearSVC\n",
    "from sklearn.metrics import accuracy_score, precision_score, recall_score, f1_score\n",
    "from sklearn import tree\n",
    "from sklearn.neural_network import MLPClassifier\n",
    "from sklearn.experimental import enable_hist_gradient_boosting\n",
    "from sklearn.ensemble import HistGradientBoostingClassifier"
   ]
  },
  {
   "cell_type": "markdown",
   "metadata": {},
   "source": [
    "# Import the data"
   ]
  },
  {
   "cell_type": "code",
   "execution_count": 2,
   "metadata": {},
   "outputs": [],
   "source": [
    "data = pd.read_csv('../input/training_dataset.csv')  "
   ]
  },
  {
   "cell_type": "code",
   "execution_count": 3,
   "metadata": {},
   "outputs": [
    {
     "data": {
      "text/html": [
       "<div>\n",
       "<style scoped>\n",
       "    .dataframe tbody tr th:only-of-type {\n",
       "        vertical-align: middle;\n",
       "    }\n",
       "\n",
       "    .dataframe tbody tr th {\n",
       "        vertical-align: top;\n",
       "    }\n",
       "\n",
       "    .dataframe thead th {\n",
       "        text-align: right;\n",
       "    }\n",
       "</style>\n",
       "<table border=\"1\" class=\"dataframe\">\n",
       "  <thead>\n",
       "    <tr style=\"text-align: right;\">\n",
       "      <th></th>\n",
       "      <th>id</th>\n",
       "      <th>0</th>\n",
       "      <th>1</th>\n",
       "      <th>2</th>\n",
       "      <th>3</th>\n",
       "      <th>4</th>\n",
       "      <th>5</th>\n",
       "      <th>6</th>\n",
       "      <th>7</th>\n",
       "      <th>8</th>\n",
       "      <th>9</th>\n",
       "      <th>author</th>\n",
       "    </tr>\n",
       "  </thead>\n",
       "  <tbody>\n",
       "    <tr>\n",
       "      <th>0</th>\n",
       "      <td>0</td>\n",
       "      <td>0.142636</td>\n",
       "      <td>0.431070</td>\n",
       "      <td>0.032912</td>\n",
       "      <td>-0.486796</td>\n",
       "      <td>0.261718</td>\n",
       "      <td>-1.013906</td>\n",
       "      <td>-0.081827</td>\n",
       "      <td>0.330352</td>\n",
       "      <td>0.438262</td>\n",
       "      <td>-0.761088</td>\n",
       "      <td>Ubuntius</td>\n",
       "    </tr>\n",
       "    <tr>\n",
       "      <th>1</th>\n",
       "      <td>1</td>\n",
       "      <td>0.019197</td>\n",
       "      <td>0.525284</td>\n",
       "      <td>0.068476</td>\n",
       "      <td>0.166658</td>\n",
       "      <td>0.261718</td>\n",
       "      <td>0.231839</td>\n",
       "      <td>0.635431</td>\n",
       "      <td>0.133209</td>\n",
       "      <td>0.313536</td>\n",
       "      <td>-0.002374</td>\n",
       "      <td>Philippus</td>\n",
       "    </tr>\n",
       "  </tbody>\n",
       "</table>\n",
       "</div>"
      ],
      "text/plain": [
       "   id         0         1         2         3         4         5         6  \\\n",
       "0   0  0.142636  0.431070  0.032912 -0.486796  0.261718 -1.013906 -0.081827   \n",
       "1   1  0.019197  0.525284  0.068476  0.166658  0.261718  0.231839  0.635431   \n",
       "\n",
       "          7         8         9     author  \n",
       "0  0.330352  0.438262 -0.761088   Ubuntius  \n",
       "1  0.133209  0.313536 -0.002374  Philippus  "
      ]
     },
     "execution_count": 3,
     "metadata": {},
     "output_type": "execute_result"
    }
   ],
   "source": [
    "data.head(2)"
   ]
  },
  {
   "cell_type": "code",
   "execution_count": 4,
   "metadata": {},
   "outputs": [
    {
     "data": {
      "text/plain": [
       "'data = data.rename(columns={\\n    \"0\": \"intercolumnar distance\", \\n    \"1\": \"upper margin\", \\n    \"2\":\"lower margin\",\\n    \"3\":\"exploitation\", \\n    \"4\":\"row number\",\\n    \"5\":\"modular ratio\",\\n    \"6\":\"interlinear spacing\",\\n    \"7\":\"weight\",\\n    \"8\":\"peak number\",\\n    \"9\":\"modular ratio/interlinear spacing\"\\n})'"
      ]
     },
     "execution_count": 4,
     "metadata": {},
     "output_type": "execute_result"
    }
   ],
   "source": [
    "'''data = data.rename(columns={\n",
    "    \"0\": \"intercolumnar distance\", \n",
    "    \"1\": \"upper margin\", \n",
    "    \"2\":\"lower margin\",\n",
    "    \"3\":\"exploitation\", \n",
    "    \"4\":\"row number\",\n",
    "    \"5\":\"modular ratio\",\n",
    "    \"6\":\"interlinear spacing\",\n",
    "    \"7\":\"weight\",\n",
    "    \"8\":\"peak number\",\n",
    "    \"9\":\"modular ratio/interlinear spacing\"\n",
    "})'''"
   ]
  },
  {
   "cell_type": "code",
   "execution_count": 5,
   "metadata": {},
   "outputs": [
    {
     "data": {
      "text/html": [
       "<div>\n",
       "<style scoped>\n",
       "    .dataframe tbody tr th:only-of-type {\n",
       "        vertical-align: middle;\n",
       "    }\n",
       "\n",
       "    .dataframe tbody tr th {\n",
       "        vertical-align: top;\n",
       "    }\n",
       "\n",
       "    .dataframe thead th {\n",
       "        text-align: right;\n",
       "    }\n",
       "</style>\n",
       "<table border=\"1\" class=\"dataframe\">\n",
       "  <thead>\n",
       "    <tr style=\"text-align: right;\">\n",
       "      <th></th>\n",
       "      <th>id</th>\n",
       "      <th>0</th>\n",
       "      <th>1</th>\n",
       "      <th>2</th>\n",
       "      <th>3</th>\n",
       "      <th>4</th>\n",
       "      <th>5</th>\n",
       "      <th>6</th>\n",
       "      <th>7</th>\n",
       "      <th>8</th>\n",
       "      <th>9</th>\n",
       "      <th>author</th>\n",
       "    </tr>\n",
       "  </thead>\n",
       "  <tbody>\n",
       "    <tr>\n",
       "      <th>0</th>\n",
       "      <td>0</td>\n",
       "      <td>0.142636</td>\n",
       "      <td>0.431070</td>\n",
       "      <td>0.032912</td>\n",
       "      <td>-0.486796</td>\n",
       "      <td>0.261718</td>\n",
       "      <td>-1.013906</td>\n",
       "      <td>-0.081827</td>\n",
       "      <td>0.330352</td>\n",
       "      <td>0.438262</td>\n",
       "      <td>-0.761088</td>\n",
       "      <td>Ubuntius</td>\n",
       "    </tr>\n",
       "    <tr>\n",
       "      <th>1</th>\n",
       "      <td>1</td>\n",
       "      <td>0.019197</td>\n",
       "      <td>0.525284</td>\n",
       "      <td>0.068476</td>\n",
       "      <td>0.166658</td>\n",
       "      <td>0.261718</td>\n",
       "      <td>0.231839</td>\n",
       "      <td>0.635431</td>\n",
       "      <td>0.133209</td>\n",
       "      <td>0.313536</td>\n",
       "      <td>-0.002374</td>\n",
       "      <td>Philippus</td>\n",
       "    </tr>\n",
       "  </tbody>\n",
       "</table>\n",
       "</div>"
      ],
      "text/plain": [
       "   id         0         1         2         3         4         5         6  \\\n",
       "0   0  0.142636  0.431070  0.032912 -0.486796  0.261718 -1.013906 -0.081827   \n",
       "1   1  0.019197  0.525284  0.068476  0.166658  0.261718  0.231839  0.635431   \n",
       "\n",
       "          7         8         9     author  \n",
       "0  0.330352  0.438262 -0.761088   Ubuntius  \n",
       "1  0.133209  0.313536 -0.002374  Philippus  "
      ]
     },
     "execution_count": 5,
     "metadata": {},
     "output_type": "execute_result"
    }
   ],
   "source": [
    "data.head(2)"
   ]
  },
  {
   "cell_type": "code",
   "execution_count": 6,
   "metadata": {},
   "outputs": [
    {
     "data": {
      "text/plain": [
       "id        0\n",
       "0         0\n",
       "1         0\n",
       "2         0\n",
       "3         0\n",
       "4         0\n",
       "5         0\n",
       "6         0\n",
       "7         0\n",
       "8         0\n",
       "9         0\n",
       "author    0\n",
       "dtype: int64"
      ]
     },
     "execution_count": 6,
     "metadata": {},
     "output_type": "execute_result"
    }
   ],
   "source": [
    "data.isnull().sum()"
   ]
  },
  {
   "cell_type": "code",
   "execution_count": 7,
   "metadata": {},
   "outputs": [
    {
     "data": {
      "text/plain": [
       "id          int64\n",
       "0         float64\n",
       "1         float64\n",
       "2         float64\n",
       "3         float64\n",
       "4         float64\n",
       "5         float64\n",
       "6         float64\n",
       "7         float64\n",
       "8         float64\n",
       "9         float64\n",
       "author     object\n",
       "dtype: object"
      ]
     },
     "execution_count": 7,
     "metadata": {},
     "output_type": "execute_result"
    }
   ],
   "source": [
    "data.dtypes"
   ]
  },
  {
   "cell_type": "code",
   "execution_count": 8,
   "metadata": {},
   "outputs": [
    {
     "data": {
      "text/plain": [
       "array(['Ubuntius', 'Philippus', 'Marcus', 'Clarius', 'Blanquius',\n",
       "       'FerrumEffractarius', 'Paithonius', 'Ovionicus'], dtype=object)"
      ]
     },
     "execution_count": 8,
     "metadata": {},
     "output_type": "execute_result"
    }
   ],
   "source": [
    "data['author'].unique()"
   ]
  },
  {
   "cell_type": "code",
   "execution_count": 9,
   "metadata": {},
   "outputs": [],
   "source": [
    "# separamos la columna que queremos predecir del resto de datos\n",
    "X = data.drop(columns=['id','author'])\n",
    "y = data['author']"
   ]
  },
  {
   "cell_type": "markdown",
   "metadata": {},
   "source": [
    "# Correlation table (Raw Data)¶"
   ]
  },
  {
   "cell_type": "code",
   "execution_count": 10,
   "metadata": {},
   "outputs": [
    {
     "data": {
      "text/html": [
       "<div>\n",
       "<style scoped>\n",
       "    .dataframe tbody tr th:only-of-type {\n",
       "        vertical-align: middle;\n",
       "    }\n",
       "\n",
       "    .dataframe tbody tr th {\n",
       "        vertical-align: top;\n",
       "    }\n",
       "\n",
       "    .dataframe thead th {\n",
       "        text-align: right;\n",
       "    }\n",
       "</style>\n",
       "<table border=\"1\" class=\"dataframe\">\n",
       "  <thead>\n",
       "    <tr style=\"text-align: right;\">\n",
       "      <th></th>\n",
       "      <th>id</th>\n",
       "      <th>0</th>\n",
       "      <th>1</th>\n",
       "      <th>2</th>\n",
       "      <th>3</th>\n",
       "      <th>4</th>\n",
       "      <th>5</th>\n",
       "      <th>6</th>\n",
       "      <th>7</th>\n",
       "      <th>8</th>\n",
       "      <th>9</th>\n",
       "      <th>author_Blanquius</th>\n",
       "      <th>author_Clarius</th>\n",
       "      <th>author_FerrumEffractarius</th>\n",
       "      <th>author_Marcus</th>\n",
       "      <th>author_Ovionicus</th>\n",
       "      <th>author_Paithonius</th>\n",
       "      <th>author_Philippus</th>\n",
       "      <th>author_Ubuntius</th>\n",
       "    </tr>\n",
       "  </thead>\n",
       "  <tbody>\n",
       "    <tr>\n",
       "      <th>0</th>\n",
       "      <td>0</td>\n",
       "      <td>0.142636</td>\n",
       "      <td>0.431070</td>\n",
       "      <td>0.032912</td>\n",
       "      <td>-0.486796</td>\n",
       "      <td>0.261718</td>\n",
       "      <td>-1.013906</td>\n",
       "      <td>-0.081827</td>\n",
       "      <td>0.330352</td>\n",
       "      <td>0.438262</td>\n",
       "      <td>-0.761088</td>\n",
       "      <td>0</td>\n",
       "      <td>0</td>\n",
       "      <td>0</td>\n",
       "      <td>0</td>\n",
       "      <td>0</td>\n",
       "      <td>0</td>\n",
       "      <td>0</td>\n",
       "      <td>1</td>\n",
       "    </tr>\n",
       "    <tr>\n",
       "      <th>1</th>\n",
       "      <td>1</td>\n",
       "      <td>0.019197</td>\n",
       "      <td>0.525284</td>\n",
       "      <td>0.068476</td>\n",
       "      <td>0.166658</td>\n",
       "      <td>0.261718</td>\n",
       "      <td>0.231839</td>\n",
       "      <td>0.635431</td>\n",
       "      <td>0.133209</td>\n",
       "      <td>0.313536</td>\n",
       "      <td>-0.002374</td>\n",
       "      <td>0</td>\n",
       "      <td>0</td>\n",
       "      <td>0</td>\n",
       "      <td>0</td>\n",
       "      <td>0</td>\n",
       "      <td>0</td>\n",
       "      <td>1</td>\n",
       "      <td>0</td>\n",
       "    </tr>\n",
       "    <tr>\n",
       "      <th>2</th>\n",
       "      <td>2</td>\n",
       "      <td>0.093260</td>\n",
       "      <td>-0.087108</td>\n",
       "      <td>-2.268081</td>\n",
       "      <td>-0.164963</td>\n",
       "      <td>0.261718</td>\n",
       "      <td>1.477585</td>\n",
       "      <td>0.635431</td>\n",
       "      <td>-0.370641</td>\n",
       "      <td>0.126447</td>\n",
       "      <td>1.078357</td>\n",
       "      <td>0</td>\n",
       "      <td>0</td>\n",
       "      <td>0</td>\n",
       "      <td>1</td>\n",
       "      <td>0</td>\n",
       "      <td>0</td>\n",
       "      <td>0</td>\n",
       "      <td>0</td>\n",
       "    </tr>\n",
       "    <tr>\n",
       "      <th>3</th>\n",
       "      <td>3</td>\n",
       "      <td>-0.017834</td>\n",
       "      <td>-0.228430</td>\n",
       "      <td>0.370770</td>\n",
       "      <td>1.293671</td>\n",
       "      <td>0.172340</td>\n",
       "      <td>-0.058835</td>\n",
       "      <td>0.446679</td>\n",
       "      <td>1.609556</td>\n",
       "      <td>2.277968</td>\n",
       "      <td>-0.172339</td>\n",
       "      <td>0</td>\n",
       "      <td>1</td>\n",
       "      <td>0</td>\n",
       "      <td>0</td>\n",
       "      <td>0</td>\n",
       "      <td>0</td>\n",
       "      <td>0</td>\n",
       "      <td>0</td>\n",
       "    </tr>\n",
       "    <tr>\n",
       "      <th>4</th>\n",
       "      <td>4</td>\n",
       "      <td>0.080916</td>\n",
       "      <td>-0.142067</td>\n",
       "      <td>0.171611</td>\n",
       "      <td>-0.470713</td>\n",
       "      <td>0.261718</td>\n",
       "      <td>-0.141884</td>\n",
       "      <td>-0.044076</td>\n",
       "      <td>0.375551</td>\n",
       "      <td>0.032902</td>\n",
       "      <td>0.009898</td>\n",
       "      <td>0</td>\n",
       "      <td>0</td>\n",
       "      <td>0</td>\n",
       "      <td>0</td>\n",
       "      <td>0</td>\n",
       "      <td>0</td>\n",
       "      <td>1</td>\n",
       "      <td>0</td>\n",
       "    </tr>\n",
       "  </tbody>\n",
       "</table>\n",
       "</div>"
      ],
      "text/plain": [
       "   id         0         1         2         3         4         5         6  \\\n",
       "0   0  0.142636  0.431070  0.032912 -0.486796  0.261718 -1.013906 -0.081827   \n",
       "1   1  0.019197  0.525284  0.068476  0.166658  0.261718  0.231839  0.635431   \n",
       "2   2  0.093260 -0.087108 -2.268081 -0.164963  0.261718  1.477585  0.635431   \n",
       "3   3 -0.017834 -0.228430  0.370770  1.293671  0.172340 -0.058835  0.446679   \n",
       "4   4  0.080916 -0.142067  0.171611 -0.470713  0.261718 -0.141884 -0.044076   \n",
       "\n",
       "          7         8         9  author_Blanquius  author_Clarius  \\\n",
       "0  0.330352  0.438262 -0.761088                 0               0   \n",
       "1  0.133209  0.313536 -0.002374                 0               0   \n",
       "2 -0.370641  0.126447  1.078357                 0               0   \n",
       "3  1.609556  2.277968 -0.172339                 0               1   \n",
       "4  0.375551  0.032902  0.009898                 0               0   \n",
       "\n",
       "   author_FerrumEffractarius  author_Marcus  author_Ovionicus  \\\n",
       "0                          0              0                 0   \n",
       "1                          0              0                 0   \n",
       "2                          0              1                 0   \n",
       "3                          0              0                 0   \n",
       "4                          0              0                 0   \n",
       "\n",
       "   author_Paithonius  author_Philippus  author_Ubuntius  \n",
       "0                  0                 0                1  \n",
       "1                  0                 1                0  \n",
       "2                  0                 0                0  \n",
       "3                  0                 0                0  \n",
       "4                  0                 1                0  "
      ]
     },
     "execution_count": 10,
     "metadata": {},
     "output_type": "execute_result"
    }
   ],
   "source": [
    "#Pasamos los autores a dummies con el fin de poder verlos en la matrix de correlación y ver con qué tienen más relacion.\n",
    "data = pd.get_dummies(data)\n",
    "data.head()"
   ]
  },
  {
   "cell_type": "code",
   "execution_count": 11,
   "metadata": {},
   "outputs": [
    {
     "data": {
      "image/png": "[encoded data removed]",
      "text/plain": [
       "<Figure size 1440x1440 with 2 Axes>"
      ]
     },
     "metadata": {
      "needs_background": "light"
     },
     "output_type": "display_data"
    }
   ],
   "source": [
    "corr = data.corr()\n",
    "mask = np.triu(np.ones_like(corr, dtype=np.bool))\n",
    "f, ax = plt.subplots(figsize=(20,20))\n",
    "cmap = sns.diverging_palette(220, 10, as_cmap=True)\n",
    "sns.heatmap(corr, mask=mask, cmap=cmap, vmax=.3, center=0,\n",
    "            square=True, linewidths=.5, cbar_kws={\"shrink\": .5}, annot=True);"
   ]
  },
  {
   "cell_type": "markdown",
   "metadata": {},
   "source": [
    "# Modelo"
   ]
  },
  {
   "cell_type": "code",
   "execution_count": 12,
   "metadata": {},
   "outputs": [],
   "source": [
    "X_train, X_test, y_train, y_test = train_test_split(X, y, test_size=0.2, random_state=42)"
   ]
  },
  {
   "cell_type": "code",
   "execution_count": 13,
   "metadata": {},
   "outputs": [
    {
     "name": "stdout",
     "output_type": "stream",
     "text": [
      "Training svm-linear...\n"
     ]
    },
    {
     "name": "stderr",
     "output_type": "stream",
     "text": [
      "/usr/local/lib/python3.7/site-packages/sklearn/svm/_base.py:947: ConvergenceWarning: Liblinear failed to converge, increase the number of iterations.\n",
      "  \"the number of iterations.\", ConvergenceWarning)\n",
      "/usr/local/lib/python3.7/site-packages/sklearn/svm/_base.py:947: ConvergenceWarning: Liblinear failed to converge, increase the number of iterations.\n",
      "  \"the number of iterations.\", ConvergenceWarning)\n",
      "/usr/local/lib/python3.7/site-packages/sklearn/svm/_base.py:947: ConvergenceWarning: Liblinear failed to converge, increase the number of iterations.\n",
      "  \"the number of iterations.\", ConvergenceWarning)\n"
     ]
    },
    {
     "name": "stdout",
     "output_type": "stream",
     "text": [
      "Training svm-rbf...\n",
      "Training randomforest...\n",
      "Training tree...\n",
      "Training MLPClassifier...\n"
     ]
    },
    {
     "name": "stderr",
     "output_type": "stream",
     "text": [
      "/usr/local/lib/python3.7/site-packages/sklearn/neural_network/_multilayer_perceptron.py:470: ConvergenceWarning: lbfgs failed to converge (status=1):\n",
      "STOP: TOTAL NO. of ITERATIONS REACHED LIMIT.\n",
      "\n",
      "Increase the number of iterations (max_iter) or scale the data as shown in:\n",
      "    https://scikit-learn.org/stable/modules/preprocessing.html\n",
      "  self.n_iter_ = _check_optimize_result(\"lbfgs\", opt_res, self.max_iter)\n"
     ]
    },
    {
     "name": "stdout",
     "output_type": "stream",
     "text": [
      "Training HistGradient...\n",
      "Train complete\n"
     ]
    }
   ],
   "source": [
    "models = {\n",
    "    \"svm-linear\": CalibratedClassifierCV(LinearSVC(),cv=3),\n",
    "    \"svm-rbf\": CalibratedClassifierCV(SVC(kernel=\"sigmoid\",gamma=\"auto\"),cv=2),\n",
    "    \"randomforest\": RandomForestClassifier(n_estimators=100),\n",
    "    \"tree\":tree.DecisionTreeClassifier(),\n",
    "    \"MLPClassifier\": MLPClassifier(solver='lbfgs', alpha=1e-5, hidden_layer_sizes=(5, 2), random_state=1),\n",
    "    \"HistGradient\": HistGradientBoostingClassifier(),\n",
    "}\n",
    "\n",
    "# Train all the models in the models dict\n",
    "for name,m  in models.items():\n",
    "    print(f\"Training {name}...\")\n",
    "    m.fit(X_train, y_train)\n",
    "print(\"Train complete\")"
   ]
  },
  {
   "cell_type": "code",
   "execution_count": 14,
   "metadata": {},
   "outputs": [
    {
     "name": "stdout",
     "output_type": "stream",
     "text": [
      "Evaluating model svm-linear\n",
      "\t Accuracy: 0.543\n",
      "Evaluating model svm-rbf\n",
      "\t Accuracy: 0.498\n",
      "Evaluating model randomforest\n",
      "\t Accuracy: 0.981\n",
      "Evaluating model tree\n",
      "\t Accuracy: 0.98\n",
      "Evaluating model MLPClassifier\n",
      "\t Accuracy: 0.635\n",
      "Evaluating model HistGradient\n",
      "\t Accuracy: 0.998\n",
      "Train complete\n"
     ]
    }
   ],
   "source": [
    "\n",
    "printMetric = lambda label,value:print(f\"\\t {label}: {round(value,3)}\")\n",
    "\n",
    "for name, model in models.items():\n",
    "    y_pred = model.predict(X_test)\n",
    "    print(f\"Evaluating model {name}\")\n",
    "    \n",
    "    printMetric(\"Accuracy\",accuracy_score(y_test, y_pred))\n",
    "    \n",
    "    \n",
    "print(\"Train complete\")"
   ]
  },
  {
   "cell_type": "code",
   "execution_count": 15,
   "metadata": {},
   "outputs": [
    {
     "data": {
      "text/plain": [
       "HistGradientBoostingClassifier(l2_regularization=0.0, learning_rate=0.1,\n",
       "                               loss='auto', max_bins=255, max_depth=None,\n",
       "                               max_iter=100, max_leaf_nodes=31,\n",
       "                               min_samples_leaf=20, n_iter_no_change=None,\n",
       "                               random_state=None, scoring=None, tol=1e-07,\n",
       "                               validation_fraction=0.1, verbose=0,\n",
       "                               warm_start=False)"
      ]
     },
     "execution_count": 15,
     "metadata": {},
     "output_type": "execute_result"
    }
   ],
   "source": [
    "m.fit(X, y)"
   ]
  },
  {
   "cell_type": "code",
   "execution_count": 16,
   "metadata": {},
   "outputs": [
    {
     "name": "stdout",
     "output_type": "stream",
     "text": [
      "1.0\n",
      "1.0\n"
     ]
    }
   ],
   "source": [
    "print(m.score(X_train, y_train))\n",
    "print(m.score(X_test, y_test))"
   ]
  },
  {
   "cell_type": "code",
   "execution_count": 17,
   "metadata": {},
   "outputs": [
    {
     "data": {
      "text/html": [
       "<div>\n",
       "<style scoped>\n",
       "    .dataframe tbody tr th:only-of-type {\n",
       "        vertical-align: middle;\n",
       "    }\n",
       "\n",
       "    .dataframe tbody tr th {\n",
       "        vertical-align: top;\n",
       "    }\n",
       "\n",
       "    .dataframe thead th {\n",
       "        text-align: right;\n",
       "    }\n",
       "</style>\n",
       "<table border=\"1\" class=\"dataframe\">\n",
       "  <thead>\n",
       "    <tr style=\"text-align: right;\">\n",
       "      <th></th>\n",
       "      <th>id</th>\n",
       "      <th>0</th>\n",
       "      <th>1</th>\n",
       "      <th>2</th>\n",
       "      <th>3</th>\n",
       "      <th>4</th>\n",
       "      <th>5</th>\n",
       "      <th>6</th>\n",
       "      <th>7</th>\n",
       "      <th>8</th>\n",
       "      <th>9</th>\n",
       "    </tr>\n",
       "  </thead>\n",
       "  <tbody>\n",
       "    <tr>\n",
       "      <th>0</th>\n",
       "      <td>0</td>\n",
       "      <td>0.019197</td>\n",
       "      <td>0.038511</td>\n",
       "      <td>0.192950</td>\n",
       "      <td>0.323367</td>\n",
       "      <td>0.261718</td>\n",
       "      <td>-0.100360</td>\n",
       "      <td>0.106925</td>\n",
       "      <td>0.463833</td>\n",
       "      <td>0.064084</td>\n",
       "      <td>-0.025146</td>\n",
       "    </tr>\n",
       "    <tr>\n",
       "      <th>1</th>\n",
       "      <td>1</td>\n",
       "      <td>0.006853</td>\n",
       "      <td>0.462474</td>\n",
       "      <td>-0.016878</td>\n",
       "      <td>0.649795</td>\n",
       "      <td>-1.347089</td>\n",
       "      <td>-0.307984</td>\n",
       "      <td>-0.119577</td>\n",
       "      <td>0.855597</td>\n",
       "      <td>0.375899</td>\n",
       "      <td>-0.092040</td>\n",
       "    </tr>\n",
       "    <tr>\n",
       "      <th>2</th>\n",
       "      <td>2</td>\n",
       "      <td>0.229043</td>\n",
       "      <td>-0.369751</td>\n",
       "      <td>0.484575</td>\n",
       "      <td>0.250174</td>\n",
       "      <td>0.261718</td>\n",
       "      <td>-0.017310</td>\n",
       "      <td>0.446679</td>\n",
       "      <td>0.232984</td>\n",
       "      <td>-0.123005</td>\n",
       "      <td>-0.126856</td>\n",
       "    </tr>\n",
       "    <tr>\n",
       "      <th>3</th>\n",
       "      <td>3</td>\n",
       "      <td>-0.104241</td>\n",
       "      <td>-0.055704</td>\n",
       "      <td>0.299642</td>\n",
       "      <td>0.391249</td>\n",
       "      <td>0.172340</td>\n",
       "      <td>0.314889</td>\n",
       "      <td>0.106925</td>\n",
       "      <td>0.220694</td>\n",
       "      <td>0.219991</td>\n",
       "      <td>0.368972</td>\n",
       "    </tr>\n",
       "    <tr>\n",
       "      <th>4</th>\n",
       "      <td>4</td>\n",
       "      <td>1.043737</td>\n",
       "      <td>-0.401156</td>\n",
       "      <td>0.473906</td>\n",
       "      <td>0.506215</td>\n",
       "      <td>0.261718</td>\n",
       "      <td>0.065740</td>\n",
       "      <td>-0.195078</td>\n",
       "      <td>0.515440</td>\n",
       "      <td>-0.808997</td>\n",
       "      <td>0.315303</td>\n",
       "    </tr>\n",
       "  </tbody>\n",
       "</table>\n",
       "</div>"
      ],
      "text/plain": [
       "   id         0         1         2         3         4         5         6  \\\n",
       "0   0  0.019197  0.038511  0.192950  0.323367  0.261718 -0.100360  0.106925   \n",
       "1   1  0.006853  0.462474 -0.016878  0.649795 -1.347089 -0.307984 -0.119577   \n",
       "2   2  0.229043 -0.369751  0.484575  0.250174  0.261718 -0.017310  0.446679   \n",
       "3   3 -0.104241 -0.055704  0.299642  0.391249  0.172340  0.314889  0.106925   \n",
       "4   4  1.043737 -0.401156  0.473906  0.506215  0.261718  0.065740 -0.195078   \n",
       "\n",
       "          7         8         9  \n",
       "0  0.463833  0.064084 -0.025146  \n",
       "1  0.855597  0.375899 -0.092040  \n",
       "2  0.232984 -0.123005 -0.126856  \n",
       "3  0.220694  0.219991  0.368972  \n",
       "4  0.515440 -0.808997  0.315303  "
      ]
     },
     "execution_count": 17,
     "metadata": {},
     "output_type": "execute_result"
    }
   ],
   "source": [
    "test_df = pd.read_csv(\"../input/test_dataset.csv\")\n",
    "test_df.head()"
   ]
  },
  {
   "cell_type": "code",
   "execution_count": 18,
   "metadata": {},
   "outputs": [],
   "source": [
    "test = test_df.drop(columns=['id'])"
   ]
  },
  {
   "cell_type": "code",
   "execution_count": 19,
   "metadata": {},
   "outputs": [],
   "source": [
    "y_pred = m.predict(test)"
   ]
  },
  {
   "cell_type": "code",
   "execution_count": 20,
   "metadata": {},
   "outputs": [],
   "source": [
    "last_file = pd.DataFrame({\n",
    "    'id' : test_df['id'],\n",
    "    'author' : y_pred\n",
    "})"
   ]
  },
  {
   "cell_type": "code",
   "execution_count": 21,
   "metadata": {},
   "outputs": [
    {
     "data": {
      "text/html": [
       "<div>\n",
       "<style scoped>\n",
       "    .dataframe tbody tr th:only-of-type {\n",
       "        vertical-align: middle;\n",
       "    }\n",
       "\n",
       "    .dataframe tbody tr th {\n",
       "        vertical-align: top;\n",
       "    }\n",
       "\n",
       "    .dataframe thead th {\n",
       "        text-align: right;\n",
       "    }\n",
       "</style>\n",
       "<table border=\"1\" class=\"dataframe\">\n",
       "  <thead>\n",
       "    <tr style=\"text-align: right;\">\n",
       "      <th></th>\n",
       "      <th>id</th>\n",
       "      <th>author</th>\n",
       "    </tr>\n",
       "  </thead>\n",
       "  <tbody>\n",
       "    <tr>\n",
       "      <th>0</th>\n",
       "      <td>0</td>\n",
       "      <td>Philippus</td>\n",
       "    </tr>\n",
       "    <tr>\n",
       "      <th>1</th>\n",
       "      <td>1</td>\n",
       "      <td>Philippus</td>\n",
       "    </tr>\n",
       "    <tr>\n",
       "      <th>2</th>\n",
       "      <td>2</td>\n",
       "      <td>Marcus</td>\n",
       "    </tr>\n",
       "    <tr>\n",
       "      <th>3</th>\n",
       "      <td>3</td>\n",
       "      <td>Marcus</td>\n",
       "    </tr>\n",
       "    <tr>\n",
       "      <th>4</th>\n",
       "      <td>4</td>\n",
       "      <td>Marcus</td>\n",
       "    </tr>\n",
       "  </tbody>\n",
       "</table>\n",
       "</div>"
      ],
      "text/plain": [
       "   id     author\n",
       "0   0  Philippus\n",
       "1   1  Philippus\n",
       "2   2     Marcus\n",
       "3   3     Marcus\n",
       "4   4     Marcus"
      ]
     },
     "execution_count": 21,
     "metadata": {},
     "output_type": "execute_result"
    }
   ],
   "source": [
    "last_file.head()"
   ]
  },
  {
   "cell_type": "code",
   "execution_count": 22,
   "metadata": {},
   "outputs": [],
   "source": [
    "last_file.to_csv('ejemplo2.csv',index = False)"
   ]
  },
  {
   "cell_type": "code",
   "execution_count": null,
   "metadata": {},
   "outputs": [],
   "source": []
  }
 ],
 "metadata": {
  "kernelspec": {
   "display_name": "Python 3",
   "language": "python",
   "name": "python3"
  },
  "language_info": {
   "codemirror_mode": {
    "name": "ipython",
    "version": 3
   },
   "file_extension": ".py",
   "mimetype": "text/x-python",
   "name": "python",
   "nbconvert_exporter": "python",
   "pygments_lexer": "ipython3",
   "version": "3.7.6"
  }
 },
 "nbformat": 4,
 "nbformat_minor": 4
}
